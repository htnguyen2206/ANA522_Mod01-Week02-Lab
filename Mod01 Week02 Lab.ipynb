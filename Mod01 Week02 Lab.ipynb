{
 "cells": [
  {
   "cell_type": "code",
   "execution_count": 22,
   "id": "678f03e2-fd19-4405-bec5-57aca47f2bd8",
   "metadata": {},
   "outputs": [
    {
     "name": "stdout",
     "output_type": "stream",
     "text": [
      "4 7 3 3\n",
      "4.25\n"
     ]
    },
    {
     "data": {
      "text/plain": [
       "[4, 3, 3]"
      ]
     },
     "execution_count": 22,
     "metadata": {},
     "output_type": "execute_result"
    }
   ],
   "source": [
    "# Excercise 1:Below and Above Average\n",
    "import random\n",
    "x1 = random.randint(1,10)\n",
    "x2 = random.randint(1,10)\n",
    "x3 = random.randint(1,10)\n",
    "x4 = random.randint(1,10)\n",
    "print(x1,x2,x3,x4)\n",
    "numberlist = [x1,x2,x3,x4]\n",
    "avg=sum(numberlist)/len(numberlist)\n",
    "print(avg)\n",
    "\n",
    "#all of the above average values\n",
    "[x for x in numberlist if x>avg]\n",
    "\n",
    "#all of the below average values\n",
    "[y for y in numberlist if y<avg]"
   ]
  },
  {
   "cell_type": "code",
   "execution_count": 23,
   "id": "155a79e6-4dc5-4e6a-a438-d28a977e11dd",
   "metadata": {},
   "outputs": [
    {
     "name": "stdout",
     "output_type": "stream",
     "text": [
      "lottery numbers are: 1 6 8 29 35 48 \n"
     ]
    }
   ],
   "source": [
    "# Excercise 2:Random Lottery Numbers\n",
    "from random import randrange\n",
    "min_lot=1\n",
    "max_lot = 49\n",
    "number = 6\n",
    "\n",
    "ticket=[]\n",
    "for x in range (number):\n",
    "    rand=randrange(min_lot, max_lot +1)\n",
    "    while rand in ticket:\n",
    "        rand=randrange(min_lot, max_lot+1)\n",
    "        \n",
    "    ticket.append(rand)\n",
    "    \n",
    "ticket.sort()\n",
    "print('lottery numbers are: ', end =\"\")\n",
    "for n in ticket:\n",
    "    print(n, end=' ')\n",
    "print()\n"
   ]
  },
  {
   "cell_type": "code",
   "execution_count": 26,
   "id": "1feff73d-1104-4ffd-aefc-4f02a076444f",
   "metadata": {},
   "outputs": [
    {
     "data": {
      "text/plain": [
       "[3, 4, 5, 6, 7, 8]"
      ]
     },
     "execution_count": 26,
     "metadata": {},
     "output_type": "execute_result"
    }
   ],
   "source": [
    "#0.3 Exercise 3:Remove Outliers\n",
    "x = [1,2,3,4,5,6,7,8,9,10]\n",
    "x.remove(max(x))\n",
    "x.remove(min(x))\n",
    "x\n",
    "x.remove(max(x))\n",
    "x.remove(min(x))\n",
    "x"
   ]
  },
  {
   "cell_type": "code",
   "execution_count": 39,
   "id": "3497258e-0b5e-4ba3-bddd-3bedddc5aee8",
   "metadata": {},
   "outputs": [
    {
     "name": "stdout",
     "output_type": "stream",
     "text": [
      "The List is not already in Sorted Order\n",
      "The List is not already in Sorted Order\n",
      "The List is not already in Sorted Order\n",
      "The List is not already in Sorted Order\n",
      "The List is not already in Sorted Order\n",
      "The List is not already in Sorted Order\n",
      "The List is not already in Sorted Order\n",
      "The List is not already in Sorted Order\n",
      "The List is already in Sorted Order\n"
     ]
    }
   ],
   "source": [
    "#0.4 Exercise 4: Is a List already in Sorted Order?\n",
    "x = [1,2,3,4,5,6,7,8,9,5]\n",
    "y = len(x)\n",
    "for i in range(y-1):\n",
    "    if (x[i]>x[i+1]):\n",
    "        print('The List is already in Sorted Order')\n",
    "    else:\n",
    "        print('The List is not already in Sorted Order')"
   ]
  },
  {
   "cell_type": "code",
   "execution_count": 40,
   "id": "d2743f59-0c85-4f93-97ed-75f77f0785b0",
   "metadata": {},
   "outputs": [
    {
     "name": "stdout",
     "output_type": "stream",
     "text": [
      "E 1\n",
      "D 2\n",
      "C 3\n",
      "B 4\n",
      "A 5\n"
     ]
    }
   ],
   "source": [
    "# 0.5 Exercise 5: Reverse Lookup\n",
    "x = ['A','B','C', 'D', 'E']\n",
    "y = [1,2,3,4,5]\n",
    "for a,b in zip(reversed(x),y):\n",
    "    print(a,b)\n",
    "    "
   ]
  },
  {
   "cell_type": "code",
   "execution_count": 45,
   "id": "898c29d6-9ee4-4e8d-8626-7f33726e1b34",
   "metadata": {},
   "outputs": [
    {
     "name": "stdout",
     "output_type": "stream",
     "text": [
      "           Total |      Simulated % |       Expected %\n",
      "-------------------------------------------------------\n",
      "               2 |             3.50 |             2.78\n",
      "               3 |             5.40 |             5.56\n",
      "               4 |             7.50 |             8.33\n",
      "               5 |            11.00 |            11.11\n",
      "               6 |            15.30 |            13.89\n",
      "               7 |            16.10 |            16.67\n",
      "               8 |            15.70 |            13.89\n",
      "               9 |            10.50 |            11.11\n",
      "              10 |             7.80 |             8.33\n",
      "              11 |             5.30 |             5.56\n",
      "              12 |             1.90 |             2.78\n"
     ]
    }
   ],
   "source": [
    "# 0.6 Exercise 6:Two Dice Simulation\n",
    "import random\n",
    "def two_dice_roll():\n",
    "        dice1 = random.randrange(6) +1\n",
    "        dice2 = random.randrange(6) +1\n",
    "        return dice1 + dice2\n",
    " \n",
    "def main():\n",
    "    #Create a dictionary for the results and set all values to 0\n",
    "    result_dict = {2:0, 3:0, 4:0, 5:0, 6:0, 7:0, 8:0, 9:0, 10:0, 11:0, 12:0}\n",
    "     \n",
    "    #Simulate 1000 rolls and store the result\n",
    "    for turn in range(1000):\n",
    "        result = two_dice_roll()\n",
    "        #Add one to the dict using result as the key and by increasing its value by one\n",
    "        result_dict[result] += 1\n",
    "         \n",
    "    #Now present the result\n",
    "    #First the title row.We use the rjust method on the strings to right adjust \n",
    "    #the text\n",
    "    print(\"Total\".rjust(16),\"|\", \"Simulated %\".rjust(16),\"|\", \"Expected %\".rjust(16))\n",
    "    print(\"-------------------------------------------------------\")\n",
    "    #Now print the results\n",
    "    for n in range(2,13):\n",
    "        #Calculate the simulated result and format it with 2 decimal\n",
    "        #places and convert it to a string\n",
    "        sim_result = str(\"%.2f\"%(result_dict[n]/1000*100))\n",
    "        #To calculate the expected result we need to consider\n",
    "        #That the result of 7 is the most probable one \n",
    "        if n <= 7:\n",
    "            exp_result = str(\"%.2f\"%((n-1)/36*100))\n",
    "        else: #so if n is greater than 7 we need to reduce the probability\n",
    "            exp_result = str(\"%.2f\"%((12-n+1)/36*100))\n",
    "        #Now print this row using rjust method\n",
    "        print(str(n).rjust(16),\"|\",sim_result.rjust(16),\"|\",exp_result.rjust(16))\n",
    " \n",
    "if __name__ == '__main__':\n",
    "    main()"
   ]
  },
  {
   "cell_type": "code",
   "execution_count": null,
   "id": "f0dfcac2-a520-4a9c-9a81-48c42440228a",
   "metadata": {},
   "outputs": [],
   "source": [
    "# 0.7 Exercise 7:Write Out Numbers in English\n"
   ]
  }
 ],
 "metadata": {
  "kernelspec": {
   "display_name": "ANA522 (default)",
   "language": "python",
   "name": "ada522"
  },
  "language_info": {
   "codemirror_mode": {
    "name": "ipython",
    "version": 3
   },
   "file_extension": ".py",
   "mimetype": "text/x-python",
   "name": "python",
   "nbconvert_exporter": "python",
   "pygments_lexer": "ipython3",
   "version": "3.8.5"
  }
 },
 "nbformat": 4,
 "nbformat_minor": 5
}
